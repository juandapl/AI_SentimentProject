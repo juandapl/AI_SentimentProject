{
 "cells": [
  {
   "cell_type": "code",
   "execution_count": 210,
   "id": "53da5dd0",
   "metadata": {},
   "outputs": [],
   "source": [
    "import csv as csv\n",
    "import nltk as nltk\n",
    "import codecs\n",
    "import numpy as np\n",
    "import matplotlib.pyplot as plt"
   ]
  },
  {
   "cell_type": "markdown",
   "id": "e13114db",
   "metadata": {},
   "source": [
    "## Project - Sentiment Analysis\n",
    "\n",
    "The goal of the project is to associate text with a **sentiment class**; here, we will use three of them: *negative*, *neutral*, and *positive*. While sentiment analysis is often seen as an 'easy' task, this project is challenging, since it implies working with noisy data, in very little quantity: samples are *tweets*, and there is only 500 of them.\n",
    "\n",
    "neg 0, neu 2, pos 4\n"
   ]
  },
  {
   "cell_type": "code",
   "execution_count": 211,
   "id": "307a32e9",
   "metadata": {},
   "outputs": [],
   "source": [
    "tweetDataFile = './fp_data/testdata.manual.2009.06.14.csv'"
   ]
  },
  {
   "cell_type": "code",
   "execution_count": 212,
   "id": "2fb5a394",
   "metadata": {},
   "outputs": [],
   "source": [
    "# Get tweets data from the file\n",
    "dataFile = open(tweetDataFile, 'rt')  \n",
    "dataReader = csv.reader(dataFile, delimiter=',')\n",
    "data = []\n",
    "# Each tweet is a list (sentiment + text) \n",
    "for row in dataReader:\n",
    "    data.append([row[0], row[5]])"
   ]
  },
  {
   "cell_type": "code",
   "execution_count": 213,
   "id": "36c52f13",
   "metadata": {},
   "outputs": [
    {
     "name": "stdout",
     "output_type": "stream",
     "text": [
      "['4', 'lebron and zydrunas are such an awesome duo']\n"
     ]
    }
   ],
   "source": [
    "print(data[21\n",
    "          ])"
   ]
  },
  {
   "cell_type": "markdown",
   "id": "c2caa9dc",
   "metadata": {},
   "source": [
    "### First approach: Rule-based \n",
    "\n",
    "- You will use SentiWordNet, containing sentiment scores (positive/negative) associated to each synset.\n",
    "- You also have access to a dictionary of slang and abreviations. \n",
    "- Goal: obtain a sentiment values for each tweet in the data without any learning - only rules !"
   ]
  },
  {
   "cell_type": "code",
   "execution_count": 214,
   "id": "4e50eb49",
   "metadata": {},
   "outputs": [],
   "source": [
    "dicoSlangFile = './fp_data/SlangLookupTable.txt'\n",
    "dicoSentiWordnetFile = './fp_data/SentiWordNet_3.0.0_20130122.txt'"
   ]
  },
  {
   "cell_type": "code",
   "execution_count": 215,
   "id": "1cbd00e9",
   "metadata": {},
   "outputs": [],
   "source": [
    "# Get the slang dictionnary from the file \n",
    "file = codecs.open(dicoSlangFile, 'r', encoding=\"utf-8\", errors='ignore')\n",
    "slang_dict = {}\n",
    "for line in file:\n",
    "    line=line.strip()\n",
    "    [key,value] = line.split(\"\\t\")\n",
    "    slang_dict[key] = value"
   ]
  },
  {
   "cell_type": "code",
   "execution_count": 216,
   "id": "fff17962",
   "metadata": {},
   "outputs": [
    {
     "name": "stdout",
     "output_type": "stream",
     "text": [
      "you\n"
     ]
    }
   ],
   "source": [
    "print(slang_dict['u'])"
   ]
  },
  {
   "cell_type": "code",
   "execution_count": 217,
   "id": "19bf41f6",
   "metadata": {},
   "outputs": [
    {
     "name": "stdout",
     "output_type": "stream",
     "text": [
      "dict_keys(['121', 'a/s/l', 'adn', 'afaik', 'afk', 'aight', 'alol', 'b4', 'b4n', 'bak', 'bf', 'bff', 'bfn', 'bg', 'bta', 'btw', 'cid', 'cnp', 'cp', 'cu', 'cul', 'cul8r', 'cya', 'cyo', 'dbau', 'fud', 'fwiw', 'fyi', 'g', 'g2g', 'ga', 'gal', 'gf', 'gfn', 'gmbo', 'gmta', 'h8', 'hagn', 'hdop', 'hhis', 'iac', 'ianal', 'ic', 'idk', 'imao', 'imnsho', 'imo', 'iow', 'ipn', 'irl', 'jk', 'l8r', 'ld', 'ldr', 'llta', 'lmao', 'lmirl', 'lol', 'ltr', 'lulab', 'lulas', 'luv', 'm/f', 'm8', 'milf', 'oll', 'omg', 'otoh', 'pir', 'ppl', 'r', 'rofl', 'rpg', 'ru', 'shid', 'somy', 'sot', 'thanx', 'thx', 'ttyl', 'u', 'ur', 'uw', 'wb', 'wfm', 'wibni', 'wtf', 'wtg', 'wtgp', 'ym'])\n"
     ]
    }
   ],
   "source": [
    "print(slang_dict.keys())"
   ]
  },
  {
   "cell_type": "code",
   "execution_count": 218,
   "id": "324221dd",
   "metadata": {},
   "outputs": [
    {
     "name": "stderr",
     "output_type": "stream",
     "text": [
      "[nltk_data] Downloading package wordnet to\n",
      "[nltk_data]     C:\\Users\\juand\\AppData\\Roaming\\nltk_data...\n",
      "[nltk_data]   Package wordnet is already up-to-date!\n",
      "[nltk_data] Downloading package omw-1.4 to\n",
      "[nltk_data]     C:\\Users\\juand\\AppData\\Roaming\\nltk_data...\n",
      "[nltk_data]   Package omw-1.4 is already up-to-date!\n"
     ]
    }
   ],
   "source": [
    "from nltk.corpus import wordnet as wn\n",
    "from nltk.corpus.reader import sentiwordnet as swn\n",
    "nltk.download('wordnet')\n",
    "nltk.download('omw-1.4')\n",
    "\n",
    "\n",
    "# Get the dictionnary from the file\n",
    "swn_dict = swn.SentiWordNetCorpusReader('', [dicoSentiWordnetFile])"
   ]
  },
  {
   "cell_type": "markdown",
   "id": "b4242819",
   "metadata": {},
   "source": [
    "- Some advice for this first approach:\n",
    "    - Be careful to specific symbols (@, #) and what they mean in this context.\n",
    "    - Your first step will be to look for scores for each word in a tweet. Look into the ```nltk``` documentation to find details on how it works - info given by SentiWordNet looks like this:`"
   ]
  },
  {
   "cell_type": "code",
   "execution_count": 219,
   "id": "481e620e",
   "metadata": {},
   "outputs": [
    {
     "name": "stdout",
     "output_type": "stream",
     "text": [
      "[]\n"
     ]
    }
   ],
   "source": [
    "print(list(swn_dict.senti_synsets('you')))"
   ]
  },
  {
   "cell_type": "code",
   "execution_count": 220,
   "id": "483d3f31",
   "metadata": {},
   "outputs": [],
   "source": [
    "breakdown_scores = swn_dict.senti_synset('evil.a.01')"
   ]
  },
  {
   "cell_type": "code",
   "execution_count": 221,
   "id": "bbeab8fb",
   "metadata": {},
   "outputs": [
    {
     "data": {
      "text/plain": [
       "0.0"
      ]
     },
     "execution_count": 221,
     "metadata": {},
     "output_type": "execute_result"
    }
   ],
   "source": [
    "breakdown_scores.pos_score()"
   ]
  },
  {
   "cell_type": "markdown",
   "id": "f0855368",
   "metadata": {},
   "source": [
    "   - You get a list of synsets with their associated sentiment. Which one to choose ? Let us not care about sense and take the first appropriate. You still need to match for the Part of Speech tag - is it a noun, a verb ? Use the right function ```nltk``` to tag the words in the tweet.\n",
    "   - Afterward, work towards more elaborated rules. How should a negation affect the sentiment of the next word ? You have access to other dictionaries in the files - use them for better rules ! \n",
    "   - The value associate to each tweet indicates its sentiment (0 = negative, 2 = neutral, 4 = positive). You can compute appropriate metrics (or use tools from scikit-learn to do that) to check how well your rules work.\n",
    "   - Next step: using a learning method. "
   ]
  },
  {
   "cell_type": "markdown",
   "id": "8c0e141e",
   "metadata": {},
   "source": [
    "### The actual work\n",
    "Rule #1:\n",
    "- we use simple tokenization\n",
    "- we add up sentiment scores of each word, filtering synsets by POS tagging (we take the first appropriate as in the instructions)\n",
    "- we try to learn a threshold\n",
    "\n",
    "Rule #2 ideas:\n",
    "- elongated words\n",
    "- symbols\n",
    "- sentence tokenizers, negations\n",
    "- !, ?\n",
    "- choose between synsets\n",
    "- boosting words\n",
    "\n"
   ]
  },
  {
   "cell_type": "markdown",
   "id": "63fd6386",
   "metadata": {},
   "source": [
    "#### Utility functions:"
   ]
  },
  {
   "cell_type": "code",
   "execution_count": 222,
   "id": "2a497743",
   "metadata": {},
   "outputs": [],
   "source": [
    "tag_to_category = {\n",
    "    'NN' : 'n',\n",
    "    'NNP' : 'n',\n",
    "    'NNPS' : 'n',\n",
    "    'NNS' : 'n',\n",
    "    'VB' : 'n',\n",
    "    'VBG' : 'v',\n",
    "    'VBN' : 'v',\n",
    "    'VBP': 'v',\n",
    "    'VBZ': 'v',\n",
    "    'JJ': 'a',\n",
    "    'JJR': 'a',\n",
    "    'JJS': 'a',\n",
    "    'RB': 'r',\n",
    "    'RBR': 'r',\n",
    "    'RBS': 'r'\n",
    "}"
   ]
  },
  {
   "cell_type": "code",
   "execution_count": 223,
   "id": "f3f63265",
   "metadata": {},
   "outputs": [],
   "source": [
    "labels, tweets = zip(*data)\n",
    "from nltk import word_tokenize, pos_tag\n",
    "tweets = [t.lower() for t in tweets]"
   ]
  },
  {
   "cell_type": "code",
   "execution_count": 224,
   "id": "7db7a089",
   "metadata": {},
   "outputs": [
    {
     "name": "stderr",
     "output_type": "stream",
     "text": [
      "[nltk_data] Downloading package punkt to\n",
      "[nltk_data]     C:\\Users\\juand\\AppData\\Roaming\\nltk_data...\n",
      "[nltk_data]   Package punkt is already up-to-date!\n",
      "[nltk_data] Downloading package averaged_perceptron_tagger to\n",
      "[nltk_data]     C:\\Users\\juand\\AppData\\Roaming\\nltk_data...\n",
      "[nltk_data]   Package averaged_perceptron_tagger is already up-to-\n",
      "[nltk_data]       date!\n"
     ]
    },
    {
     "data": {
      "text/plain": [
       "True"
      ]
     },
     "execution_count": 224,
     "metadata": {},
     "output_type": "execute_result"
    }
   ],
   "source": [
    "nltk.download('punkt')\n",
    "nltk.download('averaged_perceptron_tagger')"
   ]
  },
  {
   "cell_type": "code",
   "execution_count": 225,
   "id": "66fb6d96",
   "metadata": {},
   "outputs": [
    {
     "data": {
      "text/plain": [
       "['@stellargirl i loooooooovvvvvveee my kindle2. not that the dx is cool, but the 2 is fantastic in its own right.',\n",
       " 'reading my kindle2...  love it... lee childs is good read.',\n",
       " 'ok, first assesment of the #kindle2 ...it fucking rocks!!!',\n",
       " \"@kenburbary you'll love your kindle2. i've had mine for a few months and never looked back. the new big one is huge! no need for remorse! :)\",\n",
       " \"@mikefish  fair enough. but i have the kindle2 and i think it's perfect  :)\",\n",
       " \"@richardebaker no. it is too big. i'm quite happy with the kindle2.\",\n",
       " 'fuck this economy. i hate aig and their non loan given asses.',\n",
       " 'jquery is my new best friend.',\n",
       " 'loves twitter',\n",
       " 'how can you not love obama? he makes jokes about himself.',\n",
       " \"check this video out -- president obama at the white house correspondents' dinner http://bit.ly/imxum\",\n",
       " \"@karoli i firmly believe that obama/pelosi have zero desire to be civil.  it's a charade and a slogan, but they want to destroy conservatism\",\n",
       " 'house correspondents dinner was last night whoopi, barbara &amp; sherri went, obama got a standing ovation',\n",
       " 'watchin espn..jus seen this new nike commerical with a puppet lebron..sh*t was hilarious...lmao!!!',\n",
       " 'dear nike, stop with the flywire. that shit is a waste of science. and ugly. love, @vincentx24x',\n",
       " \"#lebron best athlete of our generation, if not all time (basketball related) i don't want to get into inter-sport debates about   __1/2\",\n",
       " 'i was talking to this guy last night and he was telling me that he is a die hard spurs fan.  he also told me that he hates lebron james.',\n",
       " 'i love lebron. http://bit.ly/pdhur',\n",
       " \"@ludajuice lebron is a beast, but i'm still cheering 4 the a..til the end.\",\n",
       " '@pmillzz lebron is the boss',\n",
       " \"@sketchbug lebron is a hometown hero to me, lol i love the lakers but let's go cavs, lol\",\n",
       " 'lebron and zydrunas are such an awesome duo',\n",
       " '@wordwhizkid lebron is a beast... nobody in the nba comes even close.',\n",
       " 'downloading apps for my iphone! so much fun :-) there literally is an app for just about anything.',\n",
       " 'good news, just had a call from the visa office, saying everything is fine.....what a relief! i am sick of scams out there! stealing!',\n",
       " 'http://twurl.nl/epkr4b - awesome come back from @biz (via @fredwilson)',\n",
       " 'in montreal for a long weekend of r&amp;r. much needed.',\n",
       " 'booz allen hamilton has a bad ass homegrown social collaboration platform. way cool!  #ttiv',\n",
       " '[#mluc09] customer innovation award winner: booz allen hamilton -- http://ping.fm/c2hpp',\n",
       " '@sochi2 i current use the nikon d90 and love it, but not as much as the canon 40d/50d. i chose the d90 for the  video feature. my mistake.',\n",
       " 'need suggestions for a good ir filter for my canon 40d ... got some? pls dm',\n",
       " '@surfit: i just checked my google for my business- blip shows up as the second entry! huh. is that a good or ba... ? http://blip.fm/~6emhv',\n",
       " \"@phyreman9 google is always a good place to look. should've mentioned i worked on the mustang w/ my dad, @kimblet.\",\n",
       " 'played with an android google phone. the slide out screen scares me i would break that fucker so fast. still prefer my iphone.',\n",
       " 'us planning to resume the military tribunals at guantanamo bay... only this time those on trial will be aig execs and chrysler debt holders',\n",
       " 'omg so bored &amp; my tattoooos are so itchy!!  help! aha =)',\n",
       " \"i'm itchy and miserable!\",\n",
       " \"@sekseemess no. i'm not itchy for now. maybe later, lol.\",\n",
       " 'rt @jessverr i love the nerdy stanford human biology videos - makes me miss school. http://bit.ly/13t7nr',\n",
       " '@spinuzzi: has been a bit crazy, with steep learning curve, but lyx is really good for long docs. for anything shorter, it would be insane.',\n",
       " 'i\\'m listening to \"p.y.t\" by danny gokey &lt;3 &lt;3 &lt;3 aww, he\\'s so amazing. i &lt;3 him so much :)',\n",
       " 'is going to sleep then on a bike ride:]',\n",
       " 'cant sleep... my tooth is aching.',\n",
       " 'blah, blah, blah same old same old. no plans today, going back to sleep i guess.',\n",
       " \"glad i didnt do bay to breakers today, it's 1000 freaking degrees in san francisco wtf\",\n",
       " 'is in san francisco at bay to breakers.',\n",
       " 'just landed at san francisco',\n",
       " 'san francisco today.  any suggestions?',\n",
       " '?obama administration must stop bonuses to aig ponzi schemers ... http://bit.ly/2cuig',\n",
       " 'started to think that citi is in really deep s&amp;^t. are they gonna survive the turmoil or are they gonna be the next aig?',\n",
       " \"shaunwoo hate'n on aig\",\n",
       " '@yarnthing you will not regret going to see star trek. it was awesome!',\n",
       " 'on my way to see star trek @ the esquire.',\n",
       " 'going to see star trek soon with my dad.',\n",
       " 'annoying new trend on the internets:  people picking apart michael lewis and malcolm gladwell.  nobody wants to read that.',\n",
       " 'bill simmons in conversation with malcolm gladwell http://bit.ly/j9o50',\n",
       " 'highly recommend: http://tinyurl.com/howdavidbeatsgoliath by malcolm gladwell',\n",
       " 'blink by malcolm gladwell amazing book and the tipping point!',\n",
       " 'malcolm gladwell might be my new man crush',\n",
       " 'omg. the commercials alone on espn are going to drive me nuts.',\n",
       " '@robmalon playing with twitter api sounds fun.  may need to take a class or find a new friend who like to generate results with api code.',\n",
       " 'playing with curl and the twitter api',\n",
       " 'hello twitter api ;)',\n",
       " 'playing with java and the twitter api',\n",
       " \"@morind45 because the twitter api is slow and most client's aren't good.\",\n",
       " 'yahoo answers can be a butt sometimes',\n",
       " 'is scrapbooking with nic =d',\n",
       " 'rt @mashable: five things wolfram alpha does better (and vastly different) than google - http://bit.ly/6nsnr',\n",
       " 'just changed my default pic to a nike basketball cause bball is awesome!!!!!',\n",
       " 'nike owns nba playoffs ads w/ lebron, kobe, carmelo? http://ow.ly/7uiy  #adidas #billups #howard  #marketing #branding',\n",
       " \"'next time, i'll call myself nike'\",\n",
       " \"new blog post: nike sb dunk low premium 'white gum' http://tr.im/lott\",\n",
       " 'rt @smartchickpdx: was just told that nike layoffs started today :-(',\n",
       " 'back when i worked for nike we had one fav word : just do it! :)',\n",
       " \"by the way, i'm totally inspired by this freaky nike commercial: http://snurl.com/icgj9\",\n",
       " 'giving weka an app engine interface, using the bird strike data for the tests, the logo is a given.',\n",
       " 'brand new canon eos 50d 15mp dslr camera canon 17-85mm is lens ...: web technology thread, brand new canon eos 5.. http://u.mavrev.com/5a3t',\n",
       " 'class... the 50d is supposed to come today :)',\n",
       " 'needs someone to explain lambda calculus to him! :(',\n",
       " 'took the graduate field exam for computer science today.  nothing makes you feel like more of an idiot than lambda calculus.',\n",
       " 'shout outs to all east palo alto for being in the buildin karizmakaze 50cal gta! also thanks to profits of doom universal hempz cracka......',\n",
       " \"@legalgeekery yeahhhhhhhhh, i wouldn't really have lived in east palo alto if i could have avoided it.  i guess it's only for the summer.\",\n",
       " '@accannis @edog1203 great stanford course. thanks for making it available to the public! really helpful and informative for starting off!',\n",
       " \"nvidia names stanford's bill dally chief scientist, vp of research http://bit.ly/fvvg9\",\n",
       " 'new blog post: harvard versus stanford - who wins? http://bit.ly/mcoco',\n",
       " '@ work til 6pm... lets go lakers!!!',\n",
       " 'damn you north korea. http://bit.ly/ktmeq',\n",
       " 'can we just go ahead and blow north korea off the map already?',\n",
       " \"north korea, please cease this douchebaggery. china doesn't even like you anymore. http://bit.ly/nehsl\",\n",
       " 'why the hell is pelosi in freakin china? and on whose dime?',\n",
       " 'are you burning more cash $$$ than chrysler and gm? stop the financial tsunami. where \"bailout\" means taking a handout!',\n",
       " 'insects have infected my spinach plant :(',\n",
       " 'wish i could catch every mosquito in the world n burn em slowly.they been bitin the shit outta me 2day.mosquitos are the assholes of insects',\n",
       " 'just got back from church, and i totally hate insects.',\n",
       " \"just got mcdonalds goddam those eggs make me sick. o yeah laker up date go lakers. not much of an update? well it's true so suck it\",\n",
       " 'omgg i ohhdee want mcdonalds damn i wonder if its open lol =]',\n",
       " 'history exam studying ugh',\n",
       " \"i hate revision, it's so boring! i am totally unprepared for my exam tomorrow :( things are not looking good...\",\n",
       " 'higher physics exam tommorow, not lookin forward to it much :(',\n",
       " \"it's a bank holiday, yet i'm only out of work now. exam season sucks:(\",\n",
       " 'cheney and bush are the real culprits - http://fwix.com/article/939496',\n",
       " 'life?s a bitch? and so is dick cheney. #p2 #bipart #tlot #tcot #hhrs #gop #dnc http://is.gd/djyq',\n",
       " \"dick cheney's dishonest speech about torture, terror, and obama. -fred kaplan slate. http://is.gd/dihg\",\n",
       " '\"the republican party is a bunch of anti-abortion zealots who couldn\\'t draw flies to a dump.\" -- neal boortz (just now, on the radio)',\n",
       " \"is twitter's connections api broken? some tweets didn't make it to twitter...\",\n",
       " 'i srsly hate the stupid twitter api timeout thing, soooo annoying!!!!! :(',\n",
       " '@psychemedia i really liked @kswedberg\\'s \"learning jquery\" book. http://bit.ly/pg0lt is worth a look too',\n",
       " 'jquery ui 1.6 book review - http://cfbloggers.org/?c=30631',\n",
       " 'very interesting ad from adobe by goodby, silverstein &amp; partners - youtube - adobe cs4: le sens propre http://bit.ly/vprpt',\n",
       " 'goodby silverstein agency new site! http://www.goodbysilverstein.com/ great!',\n",
       " \"rt @designplay goodby, silverstein's new site: http://www.goodbysilverstein.com/ i enjoy it. *nice find!*\",\n",
       " 'the ever amazing psyop and goodby silverstein &amp; partners for hp! http://bit.ly/g2ru8 have to go play with after effects now!',\n",
       " 'top ten most watched on viral-video chart.  love the nike #mostvaluablepuppets campaign from wieden &amp; kennedy http://bit.ly/nr1n9',\n",
       " 'zomg!!! i have a g2!!!!!!!',\n",
       " 'ok so lots of buzz from io2009 but how lucky are they - a free g2!! http://is.gd/hyzl',\n",
       " 'just got a free g2 android at google i/o!!!',\n",
       " \"guess i'll be retiring my g1 and start using my developer g2 woot #googleio\",\n",
       " 'at gwt fireside chat @googleio',\n",
       " 'i am happy for philip being at googleio today',\n",
       " 'lakers played great!  cannot wait for thursday night lakers vs. ???',\n",
       " 'hi there, does anyone have a great source for advice on viral marketing?... http://link.gs/ytz8',\n",
       " 'judd apatow creates fake sitcom on nbc.com to market his new movie... viral marketing at its best. http://is.gd/k0yk',\n",
       " \"here's a case study on how to use viral marketing to add over 10,000 people to your list http://snipr.com/i50oz\",\n",
       " \"viral marketing fail. this acia pills brand oughta get shut down for hacking into people's messenger's.  i get 5-6 msgs in a day! arrrgh!\",\n",
       " 'watching night at the museum . lmao',\n",
       " 'i loved night at the museum!!!',\n",
       " 'going to see the new night at the museum  movie with my family oh boy a three year old in the movies fuin',\n",
       " 'just got back from the movies.  went to see the new night at the museum with rachel.  it was good',\n",
       " 'just saw the new night at the museum movie...it was...okay...lol 7\\\\10',\n",
       " 'going to see night at the museum 2 with tall boy',\n",
       " '@shannyoday i will take you on a date to see night at the museum 2 whenever you want...it looks soooooo good',\n",
       " 'no watching the night at the museum. getting really good',\n",
       " 'night at the museum, wolverine and junk food - perfect monday!',\n",
       " 'saw night at the museum 2 last night.. pretty crazy movie.. but the cast was awesome so it was well worth it. robin williams forever!',\n",
       " 'i saw night at the museum: battle of the swithsonian today. it was okay. your typical [kids] ben stiller movie.',\n",
       " 'taking katie to see night at the museum.  (she picked it)',\n",
       " 'night at the museum tonite instead of up. :( oh well. that 4 yr old better enjoy it. lol',\n",
       " 'gm says expects announcment on sale of hummer soon - reuters: wdsugm says expects announcment on sale of hummer .. http://bit.ly/4e1fv',\n",
       " \"it's unfortunate that after the stimulus plan was put in place twice to help gm on the back of the american people has led to the inevitable\",\n",
       " 'tell me again why we are giving more $$ to gm?? we should use that $ for all the programs that support the unemployed.',\n",
       " '@jdreiss oh yes but if gm dies it will only be worth more boo hahaha',\n",
       " 'time warner cable is down again 3rd time since memorial day bummer!',\n",
       " 'i would rather pay reasonable yearly taxes for \"free\" fast internet, than get gouged by time warner for a slow connection.',\n",
       " 'nooooooo my dvr just died and i was only half way through the ea presser. hate you time warner',\n",
       " 'f*ck time warner cable!!! you f*cking suck balls!!! i have a $700 hd tv &amp; my damn hd channels hardly ever come in. bullshit!!',\n",
       " 'time warner has the worse customer service ever. i will never use them again',\n",
       " 'time warner is the devil. worst possible time for the internet to go out.',\n",
       " 'fuck no internet damn time warner!',\n",
       " 'time warner really picks the worst time to not work. all i want to do is get to mtv.com so i can watch the hills. wtfffff.',\n",
       " 'i hate time warner! soooo wish i had vios. cant watch the fricken mets game w/o buffering. i feel like im watching free internet porn.',\n",
       " 'ahh...got rid of stupid time warner today &amp; now taking a nap while the roomies cook for me. pretty good end for a monday :)',\n",
       " \"time warner's hd line up is crap.\",\n",
       " 'is being fucked by time warner cable. didnt know modems could explode. and susan boyle sucks too!',\n",
       " \"time warner cable pulls the plug on 'the girlfriend experience' - (www.tinyurl.com/m595fk)\",\n",
       " 'time warner cable slogan: where calling it a day at 2pm happens.',\n",
       " 'rocawear heads to china, building 300 stores  - http://tinyurl.com/nofet3',\n",
       " 'climate focus turns to beijing: the united nations, the us and european governments have called on china to co-o.. http://tinyurl.com/lto92n',\n",
       " \"myfoxdc barrie students back from trip to china: a silver spring high school's class trip to china has en.. http://tinyurl.com/nlhqba\",\n",
       " 'three china aerospace giants develop tianjin binhai  new area,  22.9 b yuan invested   http://bit.ly/mmidv',\n",
       " 'http://xi.gs/04fo gm ceo: china will continue to be key partner',\n",
       " 'rt @latimesautos is now the time to buy a gm car? http://bit.ly/nrzlu',\n",
       " 'recovering from surgery..wishing @julesrenner was here :(',\n",
       " 'my wrist still hurts. i have to get it looked at. i hate the dr/dentist/scary places. :( time to watch eagle eye. if you want to join, txt!',\n",
       " 'dentist tomorrow. have to brush well in the morning. like i make my hair all nice before i get it cut. why?',\n",
       " 'the dentist lied! \" u won\\'t feel any discomort! prob won\\'t even need pain pills\" man u twippin this shit hurt!! how many pills can i take!!',\n",
       " \"@kirstiealley my dentist is great but she's expensive...=(\",\n",
       " '@kirstiealley pet dentist http://www.funnyville.com/fv/pictures/dogdentures.shtml',\n",
       " 'is studing math ;) tomorrow exam and dentist :)',\n",
       " 'my dentist was wrong... wrong',\n",
       " 'going to the dentist later.:|',\n",
       " 'son has me looking at cars online.  i hate car shopping.  would rather go to the dentist!  anyone with a good car at a good price to sell?',\n",
       " 'ncaa baseball super regional - rams club http://bit.ly/ro7nx',\n",
       " 'just started playing major league baseball 2k9. http://raptr.com/h3llgwar',\n",
       " 'cardinals baseball advance to super regionals. face cs-fullerton friday.',\n",
       " 'sony coupon code.. expires soon.. http://www.coupondork.com/r/1796',\n",
       " 'waiting in line at safeway.',\n",
       " 'luke and i got stopped walking out of safeway and asked to empty our pockets and lift our shirts. how jacked up is that?',\n",
       " 'did not realize there is a gym above safeway!',\n",
       " '@xphile1908 i have three words for you: \"safeway dot com\"',\n",
       " 'safeway is very rock n roll tonight',\n",
       " 'bout to hit safeway i gotta eat',\n",
       " \"jake's going to safeway!\",\n",
       " 'found a safeway. picking up a few staples.',\n",
       " 'safeway super-marketing via mobile coupons http://bit.ly/onh7w',\n",
       " 'the safeway bathroom still smells like ass!',\n",
       " \"at safeway on elkhorn, they move like they're dead!\",\n",
       " 'your normal weight (and how to get there) ? normal eating blog http://bit.ly/zet8o',\n",
       " 'is eating and watching movies....',\n",
       " 'eating sashimi',\n",
       " 'is eating  home made yema',\n",
       " 'eating cake',\n",
       " \"i love dwight howard's vitamin water commercial... now i wish he was with nike and not adidas. lol.\",\n",
       " 'found nothing at nike factory :/ off to banana republic outlet! http://myloc.me/2zic',\n",
       " 'iphone may get radio tagging and nike  : recently-released itunes version 8.2 suggests that voiceover functional.. http://tinyurl.com/oq5ctc',\n",
       " \"is lovin his nike  already and that's only from running on the spot in his bedroom\",\n",
       " 'launched! http://imgsearch.net  #imgsearch #ajax #jquery #webapp',\n",
       " '@matthewcyan i finally got around to using jquery to make my bio collapse. yay for slide animations.',\n",
       " 'rt @jquery: the ultimate jquery list - http://jquerylist.com/',\n",
       " 'i just extracted and open-sourced a jquery plugin from stormweight to highlight text with a regular expression: http://bit.ly/ybjkb',\n",
       " '@anna_debenham what was the php jquery hack?',\n",
       " 'jquery cheat sheet http://www.javascripttoolbox.com/jquery/cheatsheet/',\n",
       " 'beginning javascript and css development with jquery #javascript #css #jquery http://bit.ly/to3e5',\n",
       " \"@pdubyad right!!! lol we'll get there!! i have high expectations, warren buffet style.\",\n",
       " 'rt @blknprecious1: rt great @dbroos \"someone\\'s sitting in the shade today because someone planted a tree a long time ago.\"- warren buffet',\n",
       " 'warren buffet on the economy http://ping.fm/lau0p',\n",
       " 'warren buffet became (for a time) the richest man in the united states, not by working but investing in 1 big idea which lead to the fortune',\n",
       " 'according to the create a school, notre dame will have 7 receivers in ncaa 10 at 84 or higher rating :) *sweet*',\n",
       " \"all-star basketball classic tuesday features top talent: chattanooga's notre dame high school will play host.. http://bit.ly/qltja\",\n",
       " \"@blondebroad it's definitely under warranty &amp; my experience is the amazon support for kindle is great! had to contact them about my kindle2\",\n",
       " 'rt look, available !amazon kindle2 &amp; kindle dx, get it here: http://short.to/87ub the top electronic book reader period, free 2 day ship ...',\n",
       " \"time warner road runner customer support here absolutely blows. i hate not having other high-speed net options. i'm ready to go nuclear.\",\n",
       " 'time warner cable phone reps r dumber than nails!!!!! ugh! cable was working 10 mins ago now its not wtf!',\n",
       " \"@siratomofbones we tried but time warner wasn't being nice so we recorded today. :)\",\n",
       " \"omg - time warner f'ed up my internet install - instead of today  its now next saturday - another week w/o internet! &amp;$*ehfa^v9fhg[*# fml.\",\n",
       " 'wth..i have never seen a line this loooong at time warner before, ugh.',\n",
       " \"impatiently awaiting the arrival of the time warner guy. it's way too pretty to be inside all afternoon\",\n",
       " 'man accosts roger federer during french open http://ff.im/3hcpt',\n",
       " 'naive bayes using em for text classification. really frustrating...',\n",
       " \"we went to stanford university today. got a tour. made me want to go back to college. it's also decided all of our kids will go there.\",\n",
       " 'investigation pending on death of stanford cs prof / google mentor rajeev motwani http://bit.ly/lwour tip @techmeme',\n",
       " \"i'm going to bed. it was a successful weekend. stanford, here i come.\",\n",
       " \"@karrisfoxy if you're being harassed by calls about your car warranty, changing your number won't fix that. they call every number. #d-bags\",\n",
       " 'just blocked united blood services using google voice. they call more than those car warranty guys.',\n",
       " '#at&amp;t is complete fail.',\n",
       " \"@broskiii oh snap you work at at&amp;t don't you\",\n",
       " '@mbjthegreat i really dont want at&amp;t phone service..they suck when it comes to having a signal',\n",
       " \"i say we just cut out the small talk: at&amp;t's new slogan: f__k you, give us your money. (apologies to bob geldof.)\",\n",
       " \"pissed about at&amp;t's mid-contract upgrade price for the iphone (it's $200 more) i'm not going to pay $499 for something i thought was $299\",\n",
       " 'safari 4 is fast :) even on my shitty at&amp;t tethering.',\n",
       " '@ims what is at&amp;t fucking up?',\n",
       " \"@springsingfiend @dvyers @sethdaggett @jlshack at&amp;t dropped the ball and isn't supporting crap with the new iphone 3.0... fail #att sucks!!!\",\n",
       " '@mmbarnhill yay, glad you got the phone! still, damn you, at&amp;t.',\n",
       " 'google wave developer sandbox account request http://bit.ly/2nylc',\n",
       " 'talk is cheap: bing that, i?ll stick with google. http://bit.ly/xc3c8',\n",
       " '@defsounds wtf is the point of deleting tweets if they can still be found in summize and searches? twitter, please fix that. thanks and bye',\n",
       " '@mattcutts have google profiles stopped showing up in searches? cant see them anymore',\n",
       " '@arunbasillal i love google translator too ! :d good day mate !',\n",
       " 'reading on my new kindle2!',\n",
       " 'my kindle2 came and i love it! :)',\n",
       " 'loving my new kindle2.  named her kendra in case u were wondering. the \"cookbook\" is the tool cuz it tells u all the tricks!  best gift evr!',\n",
       " 'the real aig scandal / http://bit.ly/b82px',\n",
       " 'any twitter to aprs apps yet?',\n",
       " '45 pros you should be following on twitter - http://is.gd/smbz',\n",
       " 'obama is quite a good comedian! check out his dinner speech on cnn :) very funny jokes.',\n",
       " '\\' barack obama shows his funny side \" &gt;&gt; http://tr.im/l0gy !! great speech..',\n",
       " 'i like this guy : \\' barack obama shows his funny side \" &gt;&gt; http://tr.im/l0gy !!',\n",
       " \"obama's speech was pretty awesome last night! http://bit.ly/imxum\",\n",
       " 'reading  \"bill clinton fail - obama win?\" http://tinyurl.com/pcyxj7',\n",
       " \"obama more popular than u.s. among arabs: survey: president barack obama's popularity in leading arab countries .. http://tinyurl.com/prlvqu\",\n",
       " \"obama's got jokes!! haha just got to watch a bit of his after dinner speech from last night... i'm in love with mr. president ;)\",\n",
       " 'lebron james got in a car accident i guess..just heard it on evening news...wow i cant believe it..will he be ok ? http://twtad.com/69750',\n",
       " 'is it me or is this the best the playoffs have been in years oh yea lebron and melo in the finals',\n",
       " '@khalid0456 no, lebron is the best',\n",
       " '@the_real_usher lebron is cool.  i like his personality...he has good character.',\n",
       " 'watching lebron highlights. damn that niggas good',\n",
       " '@lou911 lebron is murdering shit.',\n",
       " \"@uscsports21 lebron is a monsta and he is only 24. smh the world ain't ready.\",\n",
       " \"@cthagod when lebron is done in the nba he will probably be greater than kobe. like u said kobe is good but there alot of 'good' players.\",\n",
       " 'kobe is good bt lebron has my vote',\n",
       " 'kobe is the best in the world not lebron .',\n",
       " \"@asherroth world cup 2010 access?? damn, that's a good look!\",\n",
       " 'just bought my tickets for the 2010 fifa world cup in south africa. its going to be a great summer. http://bit.ly/9gezi',\n",
       " \"share: disruption...fred wilson's slides for his talk at google hq  http://bit.ly/bo8pg\",\n",
       " 'i have to go to booz allen hamilton for a 2hr meeting :(  but then i get to go home :)',\n",
       " 'the great indian tamasha truly will unfold from may 16, the result day for indian general election.',\n",
       " \"@crlane i have the kindle2. i've seen pictures of the dx, but haven't seen it in person. i love my kindle - i'm on it everyday.\",\n",
       " '@criticalpath such an awesome idea - the  continual learning program with a kindle2  http://bit.ly/1zlff',\n",
       " 'ok.. do nothing.. just thinking about 40d',\n",
       " '@faithbabywear ooooh, what model are you getting??? i have the 40d and love love love love it!',\n",
       " \"the times of india: the wonder that is india's election. http://bit.ly/p7u1h\",\n",
       " 'http://is.gd/aruj good video from google on using search options.',\n",
       " '@ambcharlesfield lol. ah my skin is itchy :( damn lawnmowing.',\n",
       " 'itchy back!! dont ya hate it!',\n",
       " 'stanford charity fashion show a top draw http://cli.gs/nenuah',\n",
       " 'stanford university?s facebook profile is one of the most popular official university pages - http://tinyurl.com/p5b3fl',\n",
       " 'lyx is cool.',\n",
       " 'sooo dissapointed they sent danny gokey home... you still rock ...danny ... my hometown hero !! yeah milrockee!!',\n",
       " \"rt @passionmodel 'american idol' fashion: adam lambert tones down, danny gokey cute ... http://cli.gs/7jwshv\",\n",
       " '@dannygokey i love you danny gokey!! :)',\n",
       " 'rt @justindavey: rt @tweetmeme gm onstar now instantly sends accident location coordinates to 911 | gps obsessed http://bit.ly/16szl1',\n",
       " \"so tired. i didn't sleep well at all last night.\",\n",
       " 'boarding plane for san francisco in 1 hour; 6 hr flight. blech.',\n",
       " 'bonjour san francisco. my back hurts from last night..',\n",
       " 'breakers. in san francisco, ca http://loopt.us/4v88bw.t',\n",
       " 'heading to san francisco',\n",
       " 'with my best girl for a few more hours in san francisco. mmmmmfamily is wonderful!',\n",
       " 'f*** up big, or go home - aig',\n",
       " 'went to see the star trek movie last night.  very satisfying.',\n",
       " \"i can't wait, going to see star trek tonight!!\",\n",
       " 'star trek was as good as everyone said!!',\n",
       " 'am loving new malcolm gladwell book - outliers',\n",
       " \"i highly recommend malcolm gladwell's 'the tipping point.' my next audiobook will probably be one of his as well.\",\n",
       " \"malcolm gladwell is a genius at tricking people into not realizing he's a fucking idiot\",\n",
       " '@sportsguy33 hey no offense but malcolm gladwell is a pretenious, annoying cunt and he brings you down. cant read his shit',\n",
       " 'rt @clashmore: http://bit.ly/soyv7  great article by malcolm gladwell.',\n",
       " 'i seriously underestimated malcolm gladwell.  i want to meet this dude.',\n",
       " 'i hate comcast right now. everything is down cable internet &amp; phone....ughh what am i to do',\n",
       " 'comcast sucks.',\n",
       " 'the day i never have to deal with comcast again will rank as one of the best days of my life.',\n",
       " '@dommm did comcast fail again??',\n",
       " 'how do you use the twitter api?... http://bit.ly/4vbhh',\n",
       " 'curses the twitter api limit',\n",
       " 'now i can see why dave winer screams about lack of twitter api, its limitations and access throttles!',\n",
       " 'testing twitter api',\n",
       " 'arg. twitter api is making me crazy.',\n",
       " 'testing twitter api. remote update',\n",
       " \"i'm really loving the new search site wolfram/alpha. makes google seem so ... quaint. http://www72.wolframalpha.com/\",\n",
       " '#wolfram alpha sucks! even for researchers the information provided is less than you can get from #google or #wikipedia, totally useless!',\n",
       " 'off to the nike factory!!!',\n",
       " 'new nike muppet commercials are pretty cute. why do we live together again?',\n",
       " 'new blog post: nike zoom lebron soldier 3 (iii) - white / black - teal http://bit.ly/rouus',\n",
       " 'new blog post: nike trainer 1 http://bit.ly/394bp',\n",
       " \"@fraggle312 oh those are awesome! i so wish they weren't owned by nike :(\",\n",
       " \"@tonyhawk http://twitpic.com/5c7uj - awesome!!! seeing the show friday at the shoreline amphitheatre. never seen nin before. can't wait. ...\",\n",
       " 'arhh, it\\'s weka bug. = =\" and i spent almost two hours to find that out. crappy me',\n",
       " \"@mitzs hey bud :) np i do so love my 50d, although i'd love a 5d mkii more\",\n",
       " '@jonduenas @robynlyn just got us a 50d for the office. :d',\n",
       " \"just picked up my new canon 50d...it's beautiful!!  prepare for some seriously awesome photography!\",\n",
       " 'just got my new toy. canon 50d. love love love it!',\n",
       " 'learning about lambda calculus :)',\n",
       " '#jobs #sittercity help with taking care of sick child (east palo alto, ca) http://tinyurl.com/qwrr2m',\n",
       " \"i'm moving to east palo alto!\",\n",
       " '@ atebits i just finished watching your stanford iphone class session. i really appreciate it. you rock!',\n",
       " '@jktweet hi! just saw your stanford talk and really liked your advice. just saying hi from singapore (yes the videos do get around)',\n",
       " '#mba admissions tips stanford gsb deadlines and essay topics 2009-2010 http://tinyurl.com/pet4fd',\n",
       " 'ethics and nonprofits - http://bit.ly/qsxrp  #stanford #socialentrepreneurship',\n",
       " \"lakers tonight let's go!!!!\",\n",
       " 'will the lakers kick the nuggets ass tonight?',\n",
       " 'oooooooh... north korea is in troubleeeee! http://bit.ly/19epah',\n",
       " 'wat the heck is north korea doing!!??!! they just conducted powerful nuclear tests! follow the link: http://www.msnbc.msn.com/id/30921379',\n",
       " 'listening to obama... friggin north korea...',\n",
       " 'i just realized we three monkeys in the white obama.biden,pelosi . sarah palin 2012',\n",
       " '@foxnews pelosi should stay in china and never come back.',\n",
       " \"nancy pelosi gave the worst commencement speech i've ever heard. yes i'm still bitter about this\",\n",
       " 'ugh. the amount of times these stupid insects have bitten me. grr..',\n",
       " 'prettiest insects ever - pink katydids: http://bit.ly/2upw2p',\n",
       " 'just got barraged by a horde of insects hungry for my kitchen light. so scary.',\n",
       " 'just had mcdonalds for dinner. :d it was goooood. big mac meal. ;)',\n",
       " 'ahh yes lol ima tell my hubby to go get me sum mcdonalds =]',\n",
       " 'stopped to have lunch at mcdonalds. chicken nuggetssss! :) yummmmmy.',\n",
       " 'could go for a lot of mcdonalds. i mean a lot.',\n",
       " 'my exam went good. @helloleonie: your prayers worked (:',\n",
       " 'only one exam left, and i am so happy for it :d',\n",
       " 'math review. im going to fail the exam.',\n",
       " 'colin powell rocked yesterday on cbs. cheney needs to shut the hell up and go home.powell is a man of honor and served our country proudly',\n",
       " 'obviously not siding with cheney here: http://bit.ly/19j2d',\n",
       " 'absolutely hilarious!!! from @mashable:  http://bit.ly/bccwt',\n",
       " '@mashable i never did thank you for including me in your top 100 twitter authors! you rock! (&amp; i new wave :-d) http://bit.ly/eorfv',\n",
       " 'learning jquery 1.3 book review - http://cfbloggers.org/?c=30629',\n",
       " 'rt @shrop: awesome jquery reference book for coda! http://www.macpeeps.com/coda/ #webdesign',\n",
       " \"i've been sending e-mails like crazy today to my contacts...does anyone have a contact at goodby silverstein...i'd love to speak to them\",\n",
       " 'adobe cs4 commercial by goodby silverstein: http://bit.ly/1aikhf',\n",
       " \"goodby, silverstein's new site... http://www.goodbysilverstein.com/ i enjoy it.\",\n",
       " \"wow everyone at the google i/o conference got free g2's with a month of unlimited service\",\n",
       " '@vkerkez dood i got a free google android phone at the i/o conference. the g2!',\n",
       " '@orli the g2 is amazing btw, a huge improvement over the g1',\n",
       " \"html 5 demos! lots of great stuff to come! yes, i'm excited. :) http://htmlfive.appspot.com #io2009 #googleio\",\n",
       " '@googleio http://twitpic.com/62shi - yay! happy place! place place!  i love google!',\n",
       " '#googleio | o3d - bringing 3d graphics to the browser. very nice tbh. funfun.',\n",
       " 'awesome viral marketing for \"funny people\" http://www.nbc.com/yo-teach/',\n",
       " 'watching a programme about the life of hitler, its only enhancing my geekiness of history.',\n",
       " 'saw night at the museum out of sheer desperation. who is funding these movies?',\n",
       " 'night at the museum 2? pretty furkin good.',\n",
       " 'watching night at the museum - giggling.',\n",
       " '@pambeeslyjenna jenna, i went to see night at the museum 2 today and i was so surprised to see three cast members from the office...',\n",
       " 'about to watch night at the museum with ryan and stacy',\n",
       " 'getting ready to go watch night at the museum 2.  dum dum, you give me gum gum!',\n",
       " \"back from seeing 'star trek' and 'night at the museum.' 'star trek' was amazing, but 'night at the museum' was; eh.\",\n",
       " 'just watched night at the museum 2! so stinkin cute!',\n",
       " \"so, night at the museum 2 was awesome! much better than part 1. next weekend we'll see up.\",\n",
       " 'i think i may have a new favorite restaurant. on our way to see \"night at the museum 2\".',\n",
       " \"up! was sold out, so i'm seeing night at the museum 2. i'm __ years old.\",\n",
       " 'saw the new night at the museum and i loved it. next is to go see up in 3d',\n",
       " 'it is a shame about gm. what if they are forced to make only cars the white house thinks will sell? what do you think?',\n",
       " 'as u may have noticed, not too happy about the gm situation, nor aig, lehman, et al',\n",
       " 'obama: nationalization of gm to be short-term   (ap) http://tinyurl.com/md347r',\n",
       " '@pittstock $gm good riddance.  sad though.',\n",
       " 'i will never buy a government motors vehicle: until just recently, i drove gm cars. since 1988, when i bought a .. http://tinyurl.com/lulsw8',\n",
       " 'having the old coca-cola guy on the gm board is stupid has heck! #tcot #ala',\n",
       " '#rantsandraves the worst thing about gm (concord / pleasant hill / martinez): is the fucking uaw. ..   http://buzzup.com/4ueb',\n",
       " 'give a man a fish, u feed him for the day. teach him to fish, u feed him for life. buy him gm, and u f**k him over for good.',\n",
       " 'the more i hear about this gm thing the more angry i get. billions wasted, more bullshit. all for something like 40k employees and all the..',\n",
       " '@quanttrader i own a gm car and it is junk as far as quality compared to a honda',\n",
       " 'sad day...bankrupt gm',\n",
       " 'is upset about the whole gm thing. life as i know it is so screwed up',\n",
       " 'whoever is running time warner needs to be repeatedly raped by a rhino so they understand the consequences of putting out shitty cable svcs',\n",
       " 'time warner ceo hints at online fees for magazines      (ap) - read from mountain view,united states. views 16209 http://bit.ly/udfch',\n",
       " '#wftb joining a bit late. my connection was down (boo time warner)',\n",
       " 'cox or time warner?  cox is cheaper and gets a b on dslreports.  tw is more expensive and gets a c.',\n",
       " 'i am furious with time warner and their phone promotions!',\n",
       " 'just got home from chick-fil-a with the boys. damn my internets down =( stupid time warner',\n",
       " 'could time-warner cable suck more?  no.',\n",
       " 'pissed at time warner for causin me to have slow internet problems',\n",
       " '@sportsguy33 ummm, having some time warner problems?',\n",
       " 'you guys see this?  why does time warner have to suck so much ass?  really wish i could get u-verse at my apartment. http://bit.ly/s594j',\n",
       " \"rt @sportsguy33 the upside to time warner: unhelpful phone operators   superslow on-site service. crap, that's not an upside.\",\n",
       " 'rt @sportsguy33: new time warner slogan: \"time warner, where we make you long for the days before cable.\"',\n",
       " \"confirmed: it's time warner's fault, not facebook's, that fb is taking about 3 minutes to load. so tempted to switch to verizon =/\",\n",
       " '@sportsguy33 time warner = epic fail',\n",
       " 'lawson to head newedge hong kong http://bit.ly/xlqsd #business #china',\n",
       " 'weird piano guitar house in china! http://u2s.me/72i8',\n",
       " 'send us your gm/chevy photos http://tinyurl.com/luzkpq',\n",
       " \"i know. how sad is that?  rt @caseymercier: 1st day of hurricane season. that's less scarey than govt taking over gm.\",\n",
       " 'gm files bankruptcy, not a good sign...',\n",
       " 'yankees won mets lost. its a good day.',\n",
       " 'my dentist appt today was actually quite enjoyable.',\n",
       " 'i hate the effing dentist.',\n",
       " '@stevemoakler i had a dentist appt this morning and had the same conversation!',\n",
       " '@kirstiealley i hate going to the dentist.. !!!',\n",
       " 'i hate the dentist....who invented them anyways?',\n",
       " \"this dentist's office is cold :/\",\n",
       " 'check this video out -- david after dentist http://bit.ly/47aw2',\n",
       " 'first dentist appointment [in years] on wednesday possibly.',\n",
       " \"tom shanahan's latest column on sdsu and its ncaa baseball regional appearance: http://ow.ly/axhu\",\n",
       " 'baseballamerica.com: blog: baseball america prospects blog ? blog ... http://bit.ly/ett8a',\n",
       " 'portland city politics may undo baseball park http://tinyurl.com/lpjquj',\n",
       " \"rt @watersisweb: ca merced's water bottled by safeway, resold at a profit: wells are drying up across the county http://tinyurl.com/mb573s\",\n",
       " 'dropped her broccoli walking home from safeway! ;( so depressed',\n",
       " \"@ronjon we don't have safeway.\",\n",
       " 'just applied at safeway!(: yeeeee!',\n",
       " '@ safeway. place is a nightmare right now. bumming.',\n",
       " 'at safeway with dad',\n",
       " 'hate safeway select green tea icecream! bought two cartons, what a waste of money.  &gt;_&lt;',\n",
       " 'safeway with marvin, janelle, and auntie lhu',\n",
       " 'safeway offering mobile coupons http://bit.ly/onh7w',\n",
       " 'phillies driving in the cadillac with the top down in cali, win 5-3 - http://tinyurl.com/nzcjqa',\n",
       " 'saved money by opting for grocery store trip and stocking food in hotel room fridge vs. eating out every night while out of town.',\n",
       " 'lounging around, eating taco bell and watching ncis before work tonight. need help staying awake.',\n",
       " 'eating breakfast and then school',\n",
       " 'still hungry after eating....',\n",
       " '10 tips for healthy eating ? resultsby fitness blog :: fitness ... http://bit.ly/62gfn',\n",
       " 'with the boyfriend, eating a quesadilla',\n",
       " 'eating dinner. meat, chips, and risotto.',\n",
       " 'got a new pair of nike shoes. pics up later',\n",
       " 'nike sb blazer high \"acg\" custom - brad douglas - http://timesurl.at/45a448',\n",
       " \"nike rocks. i'm super grateful for what i've done with them :) &amp; the european division of nike is beyond! @whitstyles @muchasmuertes\",\n",
       " 'nike air yeezy khaki/pink colorway release - http://shar.es/bjfn',\n",
       " '@evelynbyrne have you tried nike  ? v. addictive.',\n",
       " \"@erickoston that looks an awful lot like one of nike's private jets....i'm just sayin....\",\n",
       " 'the nike training club (beta) iphone app looks very interesting.',\n",
       " \"argghhhh why won't  my jquery appear in safari bad safari !!!\",\n",
       " 'devsnippets : jquery tools - javascript ui components for the web... http://inblogs.org/go/hfuqt',\n",
       " 'all about ajax,jquery ,css ,javascript and more... (many examples) http://ajaxian.com/',\n",
       " \"i'm ready to drop the pretenses, i am forever in love with jquery, and i want to marry it. sorry ladies, this nerd is jquery.spokenfor.js\",\n",
       " 'this is cold.. i was looking at google\\'s chart//visualization api and found this jquery \"wrapper\" for the api...  http://tinyurl.com/mq52bq',\n",
       " 'i spent most of my day reading a jquery book. now to start drinking some delirium tremens.',\n",
       " 'jquery selectors http://codylindley.com/jqueryselectors/',\n",
       " 'how to implement a news ticker with jquery and ten lines of code http://bit.ly/cznfj',\n",
       " \"what's buffet doing? warren buffett kicks butt in battle of the boots: posted by:alex crippe.. http://bit.ly/auizo\",\n",
       " 'super investors: a great weekend read here from warren buffet. oldie, but a goodie. http://tinyurl.com/oqxgga',\n",
       " \"i'm truly braindead.  i couldn't come up with warren buffet's name to save my soul\",\n",
       " \"reading michael palin book, the python years...great book. i also recommend warren buffet &amp; nelson mandela's bio\",\n",
       " \"i mean, i'm down with notre dame if i have to.  it's a good school, i'd be closer to dan, i'd enjoy it.\",\n",
       " \"i can't watch tv without a tivo.  and after all these years, the time/warner dvr  still sucks. http://www.davehitt.com/march03/twdvr.html\",\n",
       " \"i'd say some sports writers are idiots for saying roger federer is one of the best ever in tennis.  roger federer is the best ever in tennis\",\n",
       " 'i still love my kindle2 but reading the new york times on it does not feel natural. i miss the bloomingdale ads.',\n",
       " 'i love my kindle2. no more stacks of books to trip over on the way to the loo.',\n",
       " \"although today's keynote rocked, for every great announcement, at&amp;t shit on us just a little bit more.\",\n",
       " \"@sheridanmarfil - its not so much my obsession with cell phones, but the iphone!  i'm a slave to at&amp;t forever because of it. :)\",\n",
       " '@freitasm oh i see. i thought at&amp;t were 900mhz wcdma?',\n",
       " '@plip where did you read about tethering support phil?  just at&amp;t or will o2 be joining in?',\n",
       " 'fuzzball is more fun than at&amp;t ;p http://fuzz-ball.com/twitter',\n",
       " 'today is a good day to dislike at&amp;t. vote out of office indeed, @danielpunkass',\n",
       " \"got my wave sandbox invite! extra excited! too bad i have class now... but i'll play with it soon enough! #io2009 #wave\",\n",
       " 'looks like summize has gone down. too many tweets from wwdc perhaps?',\n",
       " 'i hope the girl at work  buys my kindle2',\n",
       " \"missed this insight-filled may column: one smart guy looking closely at why he's impressed with kindle2 http://bit.ly/i0pey @wroush\",\n",
       " '@sklososky thanks so much!!! ...from one of your *very* happy kindle2 winners ; ) i was so surprised, fabulous. thank you! best, kathleen',\n",
       " 'man i kinda dislike apple right now. case in point: the iphone 3gs. wish there was a video recorder app. please?? http://bit.ly/dzm1t',\n",
       " '@cwong08 i have a kindle2 (&amp; sony prs-500). like it! physical device feels good. font is nice. pg turns are snappy enuf. ui a little klunky.',\n",
       " 'the #kindle2 seems the best ereader, but will it work in the uk and where can i get one?',\n",
       " 'i have a google addiction. thank you for pointing that out, @annamartin123. hahaha.',\n",
       " '@ruby_gem my primary debit card is visa electron.',\n",
       " 'off to the bank to get my new visa platinum card',\n",
       " \"dearest @google, you rich bastards! the visa card you sent me doesn't work. why screw a little guy like me?\",\n",
       " 'has a date with bobby flay and gut fieri from food network',\n",
       " 'excited about seeing bobby flay and guy fieri tomorrow at the great american food &amp; music fest!',\n",
       " 'gonna go see bobby flay 2moro at shoreline. eat and drink. gonna be good.',\n",
       " \"can't wait for the great american food and music festival at shoreline tomorrow.  mmm...katz pastrami and bobby flay. yes please.\",\n",
       " 'my dad was in ny for a day, we ate at mesa grill last night and met bobby flay. so much fun, except i completely lost my voice today.',\n",
       " 'fighting with latex. again...',\n",
       " \"@iheartseverus we love you too and don't want you to die!!!!!!  latex = the devil\",\n",
       " \"7 hours. 7 hours of inkscape crashing, normally solid as a rock. 7 hours of latex complaining at the slightest thing. i can't take any more.\",\n",
       " 'how to track iran with social media: http://bit.ly/2boqu',\n",
       " \"shit's hitting the fan in iran...craziness indeed #iranelection\",\n",
       " 'monday already. iran may implode. kitchen is a disaster. @annagoss seems happy. @sebulous had a nice weekend and @goldpanda is great. whoop.',\n",
       " 'twitter stock buzz: $aapl $es_f $spy $spx $palm  (updated: 12:00 pm)',\n",
       " 'getting ready to test out some burger receipes this weekend. bobby flay has some great receipes to try. thanks bobby.',\n",
       " '@johncmayer is bobby flay joining you?',\n",
       " 'i lam so in love with bobby flay... he is my favorite. rt @terrysimpson: @bflay you need a place in phoenix. we have great peppers here!',\n",
       " \"i just created my first latex file from scratch. that didn't work out very well. (see @amandabittner , it's a great time waster)\",\n",
       " 'using linux and loving it - so much nicer than windows... looking forward to using the wysiwyg latex editor!',\n",
       " 'after using latex a lot, any other typeset mathematics just looks hideous.',\n",
       " 'ask programming: latex or indesign?: submitted by calcio1 [link] [1 comment] http://tinyurl.com/myfmf7',\n",
       " 'on that note, i hate word. i hate pages. i hate latex. there, i said it. i hate latex. all you texn3rds can come kill me now.',\n",
       " 'ahhh... back in a *real* text editing environment. i &lt;3 latex.',\n",
       " 'trouble in iran, i see. hmm. iran. iran so far away. #flockofseagullsweregeopoliticallycorrect',\n",
       " 'reading the tweets coming out of iran... the whole thing is terrifying and incredibly sad...']"
      ]
     },
     "execution_count": 225,
     "metadata": {},
     "output_type": "execute_result"
    }
   ],
   "source": [
    "tweets"
   ]
  },
  {
   "cell_type": "markdown",
   "id": "fda5e170",
   "metadata": {},
   "source": [
    "We use the tag from the POS tagger and map it to one of the four categories `(a, n, v, r)` recognised by `swn`."
   ]
  },
  {
   "cell_type": "code",
   "execution_count": 226,
   "id": "e5683b18",
   "metadata": {},
   "outputs": [],
   "source": [
    "tagged_tokenized_tweets = [pos_tag(word_tokenize(tweet)) for tweet in tweets]\n",
    "tags = []\n",
    "test_sc = []\n",
    "for tweet in tagged_tokenized_tweets:\n",
    "    tweet_tags = []\n",
    "    for word in tweet:\n",
    "        try:\n",
    "            tweet_tags.append(tag_to_category[word[1]])\n",
    "        except:\n",
    "            tweet_tags.append('NULL')\n",
    "    tags.append(tweet_tags)\n",
    "    \n",
    "    "
   ]
  },
  {
   "cell_type": "markdown",
   "id": "496e178b",
   "metadata": {},
   "source": [
    "We test with the first tweet our scoring approach. We take the first available synset that matches the word and the tag selected. "
   ]
  },
  {
   "cell_type": "code",
   "execution_count": 227,
   "id": "5f7f2f01",
   "metadata": {},
   "outputs": [
    {
     "name": "stdout",
     "output_type": "stream",
     "text": [
      "i.n.01\n",
      "not.r.01\n",
      "cool.a.01\n",
      "fantastic.a.01\n",
      "own.a.01\n",
      "right.n.01\n"
     ]
    }
   ],
   "source": [
    "accepted_tags = 'anvr'\n",
    "test_sc = []\n",
    "for i in range(len(tagged_tokenized_tweets[0])):\n",
    "    if tags[0][i] in 'anvr':\n",
    "        try:\n",
    "            breakdown_scores = swn_dict.senti_synset(f'{tagged_tokenized_tweets[0][i][0]}.{tags[0][i]}.01')\n",
    "            print(f'{tagged_tokenized_tweets[0][i][0]}.{tags[0][i]}.01')\n",
    "            test_sc.append(breakdown_scores.pos_score() - breakdown_scores.neg_score())\n",
    "        except:\n",
    "            pass"
   ]
  },
  {
   "cell_type": "markdown",
   "id": "3220226b",
   "metadata": {},
   "source": [
    "That 'not' is going to be a problem later."
   ]
  },
  {
   "cell_type": "code",
   "execution_count": 228,
   "id": "b173c3ba",
   "metadata": {},
   "outputs": [
    {
     "data": {
      "text/plain": [
       "[0.0, -0.625, 0.125, 0.375, 0.0, 0.0]"
      ]
     },
     "execution_count": 228,
     "metadata": {},
     "output_type": "execute_result"
    }
   ],
   "source": [
    "test_sc"
   ]
  },
  {
   "cell_type": "markdown",
   "id": "45d4cdcc",
   "metadata": {},
   "source": [
    "Based on the POS outputs, we select the (most) appropriate synset, and add up:"
   ]
  },
  {
   "cell_type": "code",
   "execution_count": 229,
   "id": "3172dda9",
   "metadata": {},
   "outputs": [],
   "source": [
    "word_scores = []\n",
    "scores = []\n",
    "for ii in range(len(tagged_tokenized_tweets)):\n",
    "    sc = []\n",
    "    for jj in range(len(tagged_tokenized_tweets[ii])):\n",
    "        if tags[ii][jj] in accepted_tags:\n",
    "            try:\n",
    "                breakdown_scores = swn_dict.senti_synset(f'{tagged_tokenized_tweets[ii][jj][0]}.{tags[ii][jj]}.01')\n",
    "                sc.append(breakdown_scores.pos_score() - breakdown_scores.neg_score())\n",
    "            except:\n",
    "                pass\n",
    "    word_scores.append(sc)\n",
    "    scores.append(np.mean(sc))\n",
    "scores = np.array(scores) "
   ]
  },
  {
   "cell_type": "code",
   "execution_count": 230,
   "id": "dd190529",
   "metadata": {},
   "outputs": [],
   "source": [
    "# handle nans to 0\n",
    "nans = np.isnan(scores)\n",
    "scores[nans] = 0"
   ]
  },
  {
   "cell_type": "code",
   "execution_count": 231,
   "id": "dadbf2a7",
   "metadata": {},
   "outputs": [],
   "source": [
    "labels = [int(x) for x in labels]\n",
    "labels = np.array(labels)"
   ]
  },
  {
   "cell_type": "markdown",
   "id": "252004df",
   "metadata": {},
   "source": [
    "We then use `hyperopt` to try to adjust a threshold that gives us the best scores. Given that we have three categories (positive, neutral, negative), we need to search for two thresholds $threshold_+ \\gt threshold_-$, given that all our scores are in the range (-1, 1), and try to maximise f1 score."
   ]
  },
  {
   "cell_type": "code",
   "execution_count": 232,
   "id": "5c79e4b5",
   "metadata": {},
   "outputs": [],
   "source": [
    "from hyperopt import hp, tpe, fmin, STATUS_OK\n",
    "import copy\n",
    "from sklearn.metrics import f1_score\n",
    "space = [\n",
    "    hp.uniform('pos_threshold', -0.1, 0.1), # a first trial was done with -1,1 and gave values in this window.\n",
    "                                            #We try to close up to the optimum.\n",
    "    hp.uniform('neg_threshold', -0.1, 0.1),\n",
    "    scores,\n",
    "    labels\n",
    "]\n"
   ]
  },
  {
   "cell_type": "code",
   "execution_count": 233,
   "id": "6d91a1e1",
   "metadata": {},
   "outputs": [
    {
     "name": "stdout",
     "output_type": "stream",
     "text": [
      "100%|██████████████████████████████████████████| 1000/1000 [00:09<00:00, 101.06trial/s, best loss: -0.5505420993580069]\n"
     ]
    }
   ],
   "source": [
    "def score_loss(args):\n",
    "    pos_threshold, neg_threshold, pred_labels, labels = args\n",
    "    lab = pred_labels.copy()\n",
    "    lab[lab >= pos_threshold] = 4\n",
    "    lab[(lab < pos_threshold) & (lab > neg_threshold)] = 2\n",
    "    lab[lab <= neg_threshold] = 0\n",
    "    score = f1_score(labels, lab, average='weighted')\n",
    "    return {\n",
    "        'loss' : -score,\n",
    "        'status' : STATUS_OK\n",
    "    }\n",
    "\n",
    "best = fmin(score_loss,\n",
    "    space=space, \n",
    "    algo=tpe.suggest,\n",
    "    max_evals=1000,\n",
    "           )\n",
    "    \n",
    "    \n",
    "    \n"
   ]
  },
  {
   "cell_type": "code",
   "execution_count": 234,
   "id": "89c6a860",
   "metadata": {},
   "outputs": [
    {
     "name": "stdout",
     "output_type": "stream",
     "text": [
      "{'neg_threshold': -0.004165212618324908, 'pos_threshold': 0.06088917725467967}\n"
     ]
    }
   ],
   "source": [
    "print(best)\n"
   ]
  },
  {
   "cell_type": "markdown",
   "id": "3b72dd40",
   "metadata": {},
   "source": [
    "Our simple model returned 0.55 f1-score after searching for the best thresholds. We try to refine the rule."
   ]
  },
  {
   "cell_type": "markdown",
   "id": "f1f39662",
   "metadata": {},
   "source": [
    "### Rule #2 - Incorporating more complex rules\n",
    "\n",
    "- Sentence tokenising and negation handling\n",
    " - We use a sentence tokeniser to separate the sentences of a tweet. The presence of a negation word inverts the score output of the sentence.\n",
    " - The final output of a tweet is the mean of its subsentences.\n",
    "- Emojis\n",
    " - We tagged the emoji dataset as positive (1), neutral (0), and negative (-1). They will be treated as usual words in the rest of the processing, following these rules.\n",
    "- Slang\n",
    " - In preprocessing, slang and abbreviations will be replaced by their formal language variants.\n"
   ]
  },
  {
   "cell_type": "markdown",
   "id": "643982ef",
   "metadata": {},
   "source": [
    "### Preprocessing"
   ]
  },
  {
   "cell_type": "code",
   "execution_count": 235,
   "id": "6bf770ae",
   "metadata": {},
   "outputs": [],
   "source": [
    "from nltk.tokenize import sent_tokenize\n",
    "#import other datasets\n",
    "file = codecs.open(\"./fp_data/EmoticonLookupTable.txt\", 'r', encoding=\"utf-8\", errors='ignore')\n",
    "emoji_dict = {}\n",
    "for line in file:\n",
    "    line=line.strip()\n",
    "    [key,value] = line.split(\"\\t\")\n",
    "    emoji_dict[key] = value\n",
    "\n",
    "file = open('./fp_data/NegatingWordList.txt')\n",
    "negating_words = [line.strip() for line in file]"
   ]
  },
  {
   "cell_type": "code",
   "execution_count": 236,
   "id": "f2407521",
   "metadata": {},
   "outputs": [],
   "source": [
    "def replace_slang(sentence):\n",
    "    for abbr in slang_dict.keys():\n",
    "        if abbr in sentence:\n",
    "            sentence.remove(abbr)\n",
    "            sentence += word_tokenize(slang_dict[abbr]) # count-based metrics don't care about the order\n",
    "    return sentence\n",
    "\n",
    "def emoji_processor(sentence):\n",
    "    '''\n",
    "    returns string, but emojis are replaced by -1, 1, 0. Do before word tokenization.\n",
    "    '''\n",
    "    for emoji in emoji_dict.keys():\n",
    "        if emoji in sentence:\n",
    "            sentence = sentence.replace(emoji, emoji_dict[emoji])\n",
    "    return sentence\n",
    "    \n",
    "def negate(sentence):\n",
    "    '''\n",
    "    returns original sentence with negation words replaced with NEGATE, which when parsed will multiply\n",
    "    sentence score by -1\n",
    "    '''\n",
    "    for n in negating_words:\n",
    "        if n in sentence:\n",
    "            sentence[sentence.index(n)] =  'NEGATE'\n",
    "    return sentence\n",
    "\n",
    "\n",
    "def preprocess(tweet):\n",
    "    tweet = sent_tokenize(tweet)\n",
    "    tweet = [emoji_processor(sentence) for sentence in tweet]\n",
    "    tweet = [word_tokenize(sentence) for sentence in tweet]\n",
    "    tweet = [replace_slang(sentence) for sentence in tweet]\n",
    "    tweet = [negate(sentence) for sentence in tweet]\n",
    "    return tweet\n",
    "\n",
    "def score_v2(tweet):\n",
    "    tweet = preprocess(tweet)\n",
    "    sentence_scores = []\n",
    "    for sentence in tweet:\n",
    "        # we first collect all our (-1,1,0) and 'NEGATE's\n",
    "        wordwise_score = []\n",
    "        invert = False\n",
    "        modifiers = ['-1','1', '0']\n",
    "        for modifier in modifiers:\n",
    "            while modifier in sentence:\n",
    "                sentence.remove(modifier)\n",
    "                wordwise_score.append(int(modifier))\n",
    "        while 'NEGATE' in sentence:\n",
    "            sentence.remove('NEGATE')\n",
    "            invert = not invert\n",
    "            \n",
    "        # we proceed with scoring as usual for the rest of the words: pos tagging\n",
    "        sentence = pos_tag(sentence)\n",
    "        tweet_tags = []\n",
    "        for word in sentence:\n",
    "            try:\n",
    "                tweet_tags.append(tag_to_category[word[1]])\n",
    "            except:\n",
    "                tweet_tags.append('NULL')\n",
    "        \n",
    "        # scoring and tag checking        \n",
    "        for ii in range(len(sentence)):\n",
    "            if tweet_tags[ii] in accepted_tags:\n",
    "                try:\n",
    "                    s = swn_dict.senti_synset(f'{sentence[ii][0]}.{tweet_tags[ii]}.01')\n",
    "                    wordwise_score.append(s.pos_score() - s.neg_score())\n",
    "                except:\n",
    "                    pass\n",
    "        sentence_scores.append(np.mean(wordwise_score))   \n",
    "    \n",
    "    return np.mean(sentence_scores)\n"
   ]
  },
  {
   "cell_type": "code",
   "execution_count": 237,
   "id": "7da01396",
   "metadata": {},
   "outputs": [
    {
     "name": "stderr",
     "output_type": "stream",
     "text": [
      "C:\\Users\\juand\\anaconda3\\lib\\site-packages\\numpy\\core\\fromnumeric.py:3440: RuntimeWarning: Mean of empty slice.\n",
      "  return _methods._mean(a, axis=axis, dtype=dtype,\n",
      "C:\\Users\\juand\\anaconda3\\lib\\site-packages\\numpy\\core\\_methods.py:189: RuntimeWarning: invalid value encountered in double_scalars\n",
      "  ret = ret.dtype.type(ret / rcount)\n"
     ]
    }
   ],
   "source": [
    "all_scores_v2 = [score_v2(tweet) for tweet in tweets]\n",
    "all_scores_v2 = np.array(all_scores_v2)\n",
    "nans = np.isnan(all_scores_v2)\n",
    "all_scores_v2[nans] = 0"
   ]
  },
  {
   "cell_type": "code",
   "execution_count": 238,
   "id": "5175d647",
   "metadata": {},
   "outputs": [
    {
     "data": {
      "text/plain": [
       "array([ 0.0625    ,  0.40625   ,  0.        ,  0.29375   ,  0.17708333,\n",
       "        0.        , -0.16666667,  0.41666667,  0.        ,  0.        ,\n",
       "       -0.03571429,  0.09375   ,  0.        ,  0.        ,  0.        ,\n",
       "        0.05555556, -0.08333333,  0.        , -0.16666667,  0.        ,\n",
       "        0.175     ,  0.20833333, -0.0625    ,  0.        ,  0.        ,\n",
       "        0.1875    ,  0.025     ,  0.        ,  0.        , -0.18452381,\n",
       "       -0.2375    ,  0.        ,  0.075     , -0.03472222,  0.        ,\n",
       "        0.46527778, -0.5       ,  0.        ,  0.        ,  0.08035714,\n",
       "        0.18229167,  0.        ,  0.        ,  0.02857143,  0.01785714,\n",
       "        0.        ,  0.        ,  0.        ,  0.1875    , -0.02916667,\n",
       "        0.        ,  0.28125   ,  0.025     ,  0.        ,  0.09375   ,\n",
       "        0.        ,  0.625     ,  0.        ,  0.09375   ,  0.        ,\n",
       "        0.17410714,  0.        ,  0.        ,  0.        ,  0.15      ,\n",
       "       -0.15625   ,  0.        ,  0.35      ,  0.        ,  0.        ,\n",
       "        0.        ,  0.015625  , -0.29166667,  0.5       ,  0.        ,\n",
       "       -0.04166667,  0.08333333,  0.28125   , -0.5       , -0.01458333,\n",
       "       -0.0625    ,  0.05208333,  0.16666667,  0.075     ,  0.        ,\n",
       "        0.        ,  0.        ,  0.015625  ,  0.        , -0.09375   ,\n",
       "       -0.02777778, -0.1875    , -0.109375  ,  0.1       ,  0.0078125 ,\n",
       "        0.171875  ,  0.        , -0.0828125 , -0.05      ,  0.        ,\n",
       "        0.        ,  0.        ,  0.        , -0.02083333,  0.125     ,\n",
       "       -0.65      ,  0.07291667,  0.0625    ,  0.04166667,  0.0375    ,\n",
       "        0.        ,  0.03035714,  0.10416667,  0.        ,  0.        ,\n",
       "        0.        , -0.025     ,  0.        ,  0.25      ,  0.        ,\n",
       "        0.        ,  0.        ,  0.05555556,  0.        ,  0.        ,\n",
       "        0.        ,  0.09375   ,  0.275     ,  0.0625    ,  0.15      ,\n",
       "        0.140625  ,  0.34375   , -0.05357143, -0.01136364,  0.2375    ,\n",
       "        0.        ,  0.        , -0.1       , -0.09090909, -0.02083333,\n",
       "        0.025     , -0.015625  ,  0.05769231, -0.04166667,  0.        ,\n",
       "       -0.0625    , -0.04166667,  0.        ,  0.        ,  0.03125   ,\n",
       "        0.1234375 , -0.0625    , -0.02083333,  0.        ,  0.        ,\n",
       "        0.        ,  0.05357143, -0.01136364,  0.0625    ,  0.        ,\n",
       "        0.        , -0.33333333, -0.08583333,  0.        ,  0.        ,\n",
       "       -0.125     ,  0.125     ,  0.16666667, -0.41666667,  0.        ,\n",
       "        0.059375  ,  0.15625   ,  0.        ,  0.10416667,  0.        ,\n",
       "        0.        ,  0.        ,  0.        ,  0.08333333,  0.        ,\n",
       "       -0.08333333,  0.        ,  0.        ,  0.        , -0.04166667,\n",
       "       -0.375     , -0.1875    ,  0.        , -0.125     ,  0.        ,\n",
       "        0.        ,  0.07142857,  0.        ,  0.1       ,  0.03125   ,\n",
       "        0.        ,  0.03125   , -0.0625    ,  0.02083333, -0.25      ,\n",
       "        0.        ,  0.        ,  0.00833333,  0.03819444,  0.04166667,\n",
       "        0.1375    ,  0.22916667,  0.03409091,  0.20833333,  0.0625    ,\n",
       "       -0.08125   ,  0.        ,  0.625     ,  0.00568182,  0.05      ,\n",
       "        0.        , -0.125     ,  0.125     , -0.00520833,  0.046875  ,\n",
       "        0.08333333,  0.        ,  0.03125   ,  0.        ,  0.        ,\n",
       "        0.109375  , -0.00625   , -0.03571429,  0.225     ,  0.        ,\n",
       "        0.        , -0.015625  ,  0.        ,  0.        , -0.07083333,\n",
       "        0.03125   ,  0.115625  ,  0.375     ,  0.5625    ,  0.21875   ,\n",
       "       -0.0625    ,  0.125     ,  0.        ,  0.14583333,  0.125     ,\n",
       "        0.        ,  0.        ,  0.        ,  0.15      ,  0.        ,\n",
       "        0.        ,  0.33333333,  0.75      ,  0.140625  ,  0.        ,\n",
       "       -0.25      ,  0.        ,  0.21875   ,  0.29166667,  0.25      ,\n",
       "        0.125     ,  0.        , -0.02083333,  0.02083333,  0.078125  ,\n",
       "        0.12152778,  0.175     ,  0.09375   ,  0.2125    ,  0.        ,\n",
       "        0.1875    ,  0.        , -0.125     ,  0.08333333,  0.01785714,\n",
       "        0.125     ,  0.        ,  0.        ,  0.625     , -0.075     ,\n",
       "        0.075     ,  0.        ,  0.        ,  0.        ,  0.        ,\n",
       "        0.45      ,  0.03125   , -0.02083333,  0.        ,  0.        ,\n",
       "        0.1875    ,  0.0875    ,  0.09375   ,  0.03125   ,  0.        ,\n",
       "        0.09375   , -0.12053571,  0.        ,  0.11111111,  0.        ,\n",
       "        0.        , -0.0625    ,  0.        ,  0.        ,  0.        ,\n",
       "        0.        ,  0.        , -0.02678571,  0.        ,  0.28125   ,\n",
       "       -0.025     ,  0.225     ,  0.25      ,  0.        , -0.19791667,\n",
       "        0.2       , -0.0625    ,  0.30729167,  0.25      ,  0.33333333,\n",
       "       -0.02083333,  0.        ,  0.10416667,  0.02777778,  0.        ,\n",
       "       -0.125     ,  0.        ,  0.        ,  0.        ,  0.02777778,\n",
       "        0.        , -0.04166667,  0.        ,  0.03125   ,  0.        ,\n",
       "       -0.0625    , -0.1875    , -0.02083333,  0.2       ,  0.33333333,\n",
       "       -0.04166667,  0.875     ,  0.125     ,  0.03125   ,  0.01785714,\n",
       "        0.25      ,  0.        ,  0.04166667,  0.0625    ,  0.        ,\n",
       "        0.0625    ,  0.04166667,  0.125     , -0.03571429,  0.        ,\n",
       "        0.125     ,  0.171875  ,  0.15104167,  0.        ,  0.25      ,\n",
       "        0.        ,  0.        ,  0.09375   ,  0.        , -0.025     ,\n",
       "        0.        , -0.02083333,  0.        ,  0.        ,  0.17708333,\n",
       "        0.01785714,  0.01041667,  0.046875  , -0.10833333,  0.15      ,\n",
       "        0.        , -0.125     ,  0.015625  , -0.0375    ,  0.        ,\n",
       "        0.20833333,  0.        , -0.015625  , -0.3125    ,  0.        ,\n",
       "        0.05357143,  0.        , -0.0625    ,  0.05555556,  0.        ,\n",
       "       -0.175     ,  0.        ,  0.        ,  0.        ,  0.        ,\n",
       "       -0.07142857,  0.0375    , -0.0625    ,  0.        ,  0.        ,\n",
       "        0.        ,  0.        , -0.234375  ,  0.1875    ,  0.        ,\n",
       "        0.025     , -0.25      ,  0.        ,  0.        , -0.25      ,\n",
       "       -0.4375    ,  0.        ,  0.        ,  0.04166667,  0.        ,\n",
       "        0.        ,  0.        , -0.25      ,  0.        ,  0.5       ,\n",
       "        0.        ,  0.        ,  0.        ,  0.        ,  0.        ,\n",
       "        0.04166667,  0.        ,  0.125     ,  0.        , -0.0625    ,\n",
       "        0.35416667,  0.        ,  0.02083333,  0.0625    ,  0.0625    ,\n",
       "        0.        ,  0.0625    , -0.1875    , -0.20833333,  0.1       ,\n",
       "        0.        ,  0.25      ,  0.        , -0.21875   , -0.21875   ,\n",
       "       -0.05208333,  0.        ,  0.        ,  0.02083333,  0.        ,\n",
       "        0.16517857,  0.        ,  0.05416667,  0.        ,  0.1875    ,\n",
       "        0.046875  ,  0.1       , -0.0625    ,  0.35416667,  0.        ,\n",
       "        0.0625    ,  0.        ,  0.125     , -0.14375   , -0.08333333,\n",
       "        0.        , -0.125     ,  0.        ,  0.        ,  0.        ,\n",
       "        0.15      ,  0.        ,  0.03125   ,  0.075     , -0.0625    ,\n",
       "        0.025     ,  0.        ,  0.125     ,  0.        ,  0.05580357,\n",
       "        0.        , -0.05      ,  0.0546875 ,  0.        , -0.0625    ,\n",
       "        0.17361111,  0.        ,  0.03125   ,  0.        ,  0.06944444,\n",
       "        0.02083333,  0.03571429, -0.3       ,  0.16666667, -0.19444444,\n",
       "        0.        ,  0.        , -0.2       ])"
      ]
     },
     "execution_count": 238,
     "metadata": {},
     "output_type": "execute_result"
    }
   ],
   "source": [
    "all_scores_v2"
   ]
  },
  {
   "cell_type": "markdown",
   "id": "acf35a85",
   "metadata": {},
   "source": [
    "### Optimization and final results\n",
    "\n",
    "We optimise using the same loss function we used for rule #1. We only modify the search space to incorporate our new `all_scores_v2`."
   ]
  },
  {
   "cell_type": "code",
   "execution_count": 242,
   "id": "a80e628e",
   "metadata": {},
   "outputs": [],
   "source": [
    "space_v2 = [\n",
    "    hp.uniform('pos_threshold', 0, 0.1), # AGAIN, a first trial was done with -1,1 and gave values in this window.\n",
    "                                            #We try to close up to the optimum.\n",
    "    hp.uniform('neg_threshold', -0.1, 0),\n",
    "    all_scores_v2,\n",
    "    labels\n",
    "]"
   ]
  },
  {
   "cell_type": "code",
   "execution_count": 243,
   "id": "d9500e6e",
   "metadata": {},
   "outputs": [
    {
     "name": "stdout",
     "output_type": "stream",
     "text": [
      "100%|███████████████████████████████████████████| 1000/1000 [00:10<00:00, 98.91trial/s, best loss: -0.4800580250450823]\n"
     ]
    }
   ],
   "source": [
    "best = fmin(score_loss,\n",
    "    space=space_v2, \n",
    "    algo=tpe.suggest,\n",
    "    max_evals=1000,\n",
    "           )"
   ]
  },
  {
   "cell_type": "code",
   "execution_count": 244,
   "id": "32414c4e",
   "metadata": {},
   "outputs": [
    {
     "data": {
      "text/plain": [
       "{'neg_threshold': -0.005490016736387422, 'pos_threshold': 0.06694629558485246}"
      ]
     },
     "execution_count": 244,
     "metadata": {},
     "output_type": "execute_result"
    }
   ],
   "source": [
    "best"
   ]
  },
  {
   "cell_type": "code",
   "execution_count": 245,
   "id": "9a5c6b5b",
   "metadata": {},
   "outputs": [
    {
     "data": {
      "text/plain": [
       "'@stellargirl i loooooooovvvvvveee my kindle2. not that the dx is cool, but the 2 is fantastic in its own right.'"
      ]
     },
     "execution_count": 245,
     "metadata": {},
     "output_type": "execute_result"
    }
   ],
   "source": [
    "tweets[0]"
   ]
  },
  {
   "cell_type": "markdown",
   "id": "c4925958",
   "metadata": {},
   "source": [
    "### Observations\n",
    "\n",
    "Our second rule did not perform better than its simple counterpart, obtaining an f1-score of 0.48 with its most optimised thresholds. It is possible that expanding slang obscured the general meaning of the sentences, or that emojis were given too much weight, or that our simple approach to negation (which in some cases such as `tweets[0]`: \"not that the dx is cool\" is part of a syntactical formula, not a negation per se) might have affected some scores. As well, it is possible that sentence-wise, and not word-wise averaging might have given extra weight to nuances that could mislead our rules."
   ]
  }
 ],
 "metadata": {
  "kernelspec": {
   "display_name": "Python 3 (ipykernel)",
   "language": "python",
   "name": "python3"
  },
  "language_info": {
   "codemirror_mode": {
    "name": "ipython",
    "version": 3
   },
   "file_extension": ".py",
   "mimetype": "text/x-python",
   "name": "python",
   "nbconvert_exporter": "python",
   "pygments_lexer": "ipython3",
   "version": "3.9.12"
  }
 },
 "nbformat": 4,
 "nbformat_minor": 5
}
